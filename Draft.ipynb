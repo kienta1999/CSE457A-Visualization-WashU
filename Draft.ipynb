{
 "cells": [
  {
   "cell_type": "code",
   "execution_count": 1,
   "metadata": {},
   "outputs": [],
   "source": [
    "import numpy as np\n",
    "import matplotlib.pyplot as plt"
   ]
  },
  {
   "cell_type": "code",
   "execution_count": 2,
   "metadata": {},
   "outputs": [],
   "source": [
    "X = np.array([10,8,13,9,11,14,6,4,12,7,5])\n",
    "Y = np.array([8.04, 6.95, 7.58, 8.81, 8.33, 9.96, 7.24, 4.26, 10.84, 4.82, 5.68])"
   ]
  },
  {
   "cell_type": "code",
   "execution_count": 3,
   "metadata": {},
   "outputs": [
    {
     "data": {
      "text/plain": [
       "14"
      ]
     },
     "execution_count": 3,
     "metadata": {},
     "output_type": "execute_result"
    }
   ],
   "source": [
    "np.max(X)"
   ]
  },
  {
   "cell_type": "markdown",
   "metadata": {},
   "source": [
    "## Bar"
   ]
  },
  {
   "cell_type": "code",
   "execution_count": 16,
   "metadata": {},
   "outputs": [
    {
     "name": "stdout",
     "output_type": "stream",
     "text": [
      "<rect x=\"0\" y=\"0\" width=\"100\" height=\"15\" />\n",
      "<rect x=\"0\" y=\"15\" width=\"80\" height=\"15\" />\n",
      "<rect x=\"0\" y=\"30\" width=\"130\" height=\"15\" />\n",
      "<rect x=\"0\" y=\"45\" width=\"90\" height=\"15\" />\n",
      "<rect x=\"0\" y=\"60\" width=\"110\" height=\"15\" />\n",
      "<rect x=\"0\" y=\"75\" width=\"140\" height=\"15\" />\n",
      "<rect x=\"0\" y=\"90\" width=\"60\" height=\"15\" />\n",
      "<rect x=\"0\" y=\"105\" width=\"40\" height=\"15\" />\n",
      "<rect x=\"0\" y=\"120\" width=\"120\" height=\"15\" />\n",
      "<rect x=\"0\" y=\"135\" width=\"70\" height=\"15\" />\n",
      "<rect x=\"0\" y=\"150\" width=\"50\" height=\"15\" />\n"
     ]
    }
   ],
   "source": [
    "for i, x in enumerate(X):\n",
    "    print(f'<rect x=\"0\" y=\"{i * 15}\" width=\"{10 * x}\" height=\"15\" />')"
   ]
  },
  {
   "cell_type": "code",
   "execution_count": 18,
   "metadata": {},
   "outputs": [
    {
     "name": "stdout",
     "output_type": "stream",
     "text": [
      "<rect x=\"0\" y=\"0\" width=\"80.39999999999999\" height=\"15\" />\n",
      "<rect x=\"0\" y=\"15\" width=\"69.5\" height=\"15\" />\n",
      "<rect x=\"0\" y=\"30\" width=\"75.8\" height=\"15\" />\n",
      "<rect x=\"0\" y=\"45\" width=\"88.10000000000001\" height=\"15\" />\n",
      "<rect x=\"0\" y=\"60\" width=\"83.3\" height=\"15\" />\n",
      "<rect x=\"0\" y=\"75\" width=\"99.60000000000001\" height=\"15\" />\n",
      "<rect x=\"0\" y=\"90\" width=\"72.4\" height=\"15\" />\n",
      "<rect x=\"0\" y=\"105\" width=\"42.599999999999994\" height=\"15\" />\n",
      "<rect x=\"0\" y=\"120\" width=\"108.4\" height=\"15\" />\n",
      "<rect x=\"0\" y=\"135\" width=\"48.2\" height=\"15\" />\n",
      "<rect x=\"0\" y=\"150\" width=\"56.8\" height=\"15\" />\n"
     ]
    }
   ],
   "source": [
    "for i, x in enumerate(Y):\n",
    "    print(f'<rect x=\"0\" y=\"{15 * i}\" width=\"{10 * x}\" height=\"15\" />')"
   ]
  },
  {
   "cell_type": "markdown",
   "metadata": {},
   "source": [
    "## Line"
   ]
  },
  {
   "cell_type": "code",
   "execution_count": 3,
   "metadata": {},
   "outputs": [
    {
     "name": "stdout",
     "output_type": "stream",
     "text": [
      "<line x1=\"0\" y1=\"200\" x2=\"50\" y2=\"260\" class=\"line\" />\n",
      "<line x1=\"50\" y1=\"260\" x2=\"100\" y2=\"110\" class=\"line\" />\n",
      "<line x1=\"100\" y1=\"110\" x2=\"150\" y2=\"230\" class=\"line\" />\n",
      "<line x1=\"150\" y1=\"230\" x2=\"200\" y2=\"170\" class=\"line\" />\n",
      "<line x1=\"200\" y1=\"170\" x2=\"250\" y2=\"80\" class=\"line\" />\n",
      "<line x1=\"250\" y1=\"80\" x2=\"300\" y2=\"320\" class=\"line\" />\n",
      "<line x1=\"300\" y1=\"320\" x2=\"350\" y2=\"380\" class=\"line\" />\n",
      "<line x1=\"350\" y1=\"380\" x2=\"400\" y2=\"140\" class=\"line\" />\n",
      "<line x1=\"400\" y1=\"140\" x2=\"450\" y2=\"290\" class=\"line\" />\n",
      "<line x1=\"450\" y1=\"290\" x2=\"500\" y2=\"350\" class=\"line\" />\n"
     ]
    }
   ],
   "source": [
    "for i, x in enumerate(X):\n",
    "    if i < X.shape[0] - 1:\n",
    "        print(f'<line x1=\"{50 * i}\" y1=\"{500 - x * 30}\" x2=\"{50 * (i + 1)}\" y2=\"{500 - X[i + 1] * 30}\" class=\"line\" />')"
   ]
  },
  {
   "cell_type": "code",
   "execution_count": 4,
   "metadata": {},
   "outputs": [
    {
     "name": "stdout",
     "output_type": "stream",
     "text": [
      "<line x1=\"800\" y1=\"258.8\" x2=\"850\" y2=\"291.5\" class=\"line\" />\n",
      "<line x1=\"850\" y1=\"291.5\" x2=\"900\" y2=\"272.6\" class=\"line\" />\n",
      "<line x1=\"900\" y1=\"272.6\" x2=\"950\" y2=\"235.7\" class=\"line\" />\n",
      "<line x1=\"950\" y1=\"235.7\" x2=\"1000\" y2=\"250.1\" class=\"line\" />\n",
      "<line x1=\"1000\" y1=\"250.1\" x2=\"1050\" y2=\"201.2\" class=\"line\" />\n",
      "<line x1=\"1050\" y1=\"201.2\" x2=\"1100\" y2=\"282.79999999999995\" class=\"line\" />\n",
      "<line x1=\"1100\" y1=\"282.79999999999995\" x2=\"1150\" y2=\"372.2\" class=\"line\" />\n",
      "<line x1=\"1150\" y1=\"372.2\" x2=\"1200\" y2=\"174.8\" class=\"line\" />\n",
      "<line x1=\"1200\" y1=\"174.8\" x2=\"1250\" y2=\"355.4\" class=\"line\" />\n",
      "<line x1=\"1250\" y1=\"355.4\" x2=\"1300\" y2=\"329.6\" class=\"line\" />\n"
     ]
    }
   ],
   "source": [
    "for i, y in enumerate(Y):\n",
    "    if i < Y.shape[0] - 1:\n",
    "        print(f'<line x1=\"{50 * i + 800}\" y1=\"{500 - y * 30}\" x2=\"{50 * (i + 1) + 800}\" y2=\"{500 - Y[i + 1] * 30}\" class=\"line\" />')"
   ]
  },
  {
   "cell_type": "code",
   "execution_count": 5,
   "metadata": {},
   "outputs": [
    {
     "data": {
      "text/plain": [
       "<matplotlib.collections.PathCollection at 0x7f63036b5610>"
      ]
     },
     "execution_count": 5,
     "metadata": {},
     "output_type": "execute_result"
    },
    {
     "data": {
      "image/png": "[encoded data removed]",
      "text/plain": [
       "<Figure size 432x288 with 1 Axes>"
      ]
     },
     "metadata": {
      "needs_background": "light"
     },
     "output_type": "display_data"
    }
   ],
   "source": [
    "plt.scatter(X, Y)"
   ]
  },
  {
   "cell_type": "code",
   "execution_count": null,
   "metadata": {},
   "outputs": [],
   "source": []
  },
  {
   "cell_type": "markdown",
   "metadata": {},
   "source": [
    "## Area Chart"
   ]
  },
  {
   "cell_type": "code",
   "execution_count": 20,
   "metadata": {},
   "outputs": [
    {
     "name": "stdout",
     "output_type": "stream",
     "text": [
      "0,119.60000000000001\n",
      "15,130.5\n",
      "30,124.2\n",
      "45,111.89999999999999\n",
      "60,116.7\n",
      "75,100.39999999999999\n",
      "90,127.6\n",
      "105,157.4\n",
      "120,91.6\n",
      "135,151.8\n",
      "150,143.2\n"
     ]
    }
   ],
   "source": [
    "for i, x in enumerate(Y):\n",
    "    print(f'{15 * i},{200 - x * 10}')"
   ]
  },
  {
   "cell_type": "markdown",
   "metadata": {},
   "source": [
    "## Scatter"
   ]
  },
  {
   "cell_type": "code",
   "execution_count": 23,
   "metadata": {},
   "outputs": [
    {
     "name": "stdout",
     "output_type": "stream",
     "text": [
      "<circle cx=\"100\" cy=\"119.60000000000001\" r=\"4\"/>\n",
      "<circle cx=\"80\" cy=\"130.5\" r=\"4\"/>\n",
      "<circle cx=\"130\" cy=\"124.2\" r=\"4\"/>\n",
      "<circle cx=\"90\" cy=\"111.89999999999999\" r=\"4\"/>\n",
      "<circle cx=\"110\" cy=\"116.7\" r=\"4\"/>\n",
      "<circle cx=\"140\" cy=\"100.39999999999999\" r=\"4\"/>\n",
      "<circle cx=\"60\" cy=\"127.6\" r=\"4\"/>\n",
      "<circle cx=\"40\" cy=\"157.4\" r=\"4\"/>\n",
      "<circle cx=\"120\" cy=\"91.6\" r=\"4\"/>\n",
      "<circle cx=\"70\" cy=\"151.8\" r=\"4\"/>\n",
      "<circle cx=\"50\" cy=\"143.2\" r=\"4\"/>\n"
     ]
    }
   ],
   "source": [
    "for x, y in zip(X, Y):\n",
    "#     print(40 * x, 500 - 40 * y)\n",
    "    print(f'<circle cx=\"{10 * x}\" cy=\"{200 - 10 * y}\" r=\"4\"/>')"
   ]
  }
 ],
 "metadata": {
  "kernelspec": {
   "display_name": "Python 3",
   "language": "python",
   "name": "python3"
  },
  "language_info": {
   "codemirror_mode": {
    "name": "ipython",
    "version": 3
   },
   "file_extension": ".py",
   "mimetype": "text/x-python",
   "name": "python",
   "nbconvert_exporter": "python",
   "pygments_lexer": "ipython3",
   "version": "3.8.10"
  }
 },
 "nbformat": 4,
 "nbformat_minor": 4
}
