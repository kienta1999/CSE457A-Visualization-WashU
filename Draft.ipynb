{
 "cells": [
  {
   "cell_type": "code",
   "execution_count": 1,
   "metadata": {},
   "outputs": [],
   "source": [
    "import numpy as np\n",
    "import matplotlib.pyplot as plt"
   ]
  },
  {
   "cell_type": "code",
   "execution_count": 2,
   "metadata": {},
   "outputs": [],
   "source": [
    "X = np.array([10,8,13,9,11,14,6,4,12,7,5])\n",
    "Y = np.array([8.04, 6.95, 7.58, 8.81, 8.33, 9.96, 7.24, 4.26, 10.84, 4.82, 5.68])"
   ]
  },
  {
   "cell_type": "code",
   "execution_count": 3,
   "metadata": {},
   "outputs": [
    {
     "name": "stdout",
     "output_type": "stream",
     "text": [
      "<line x1=\"0\" y1=\"200\" x2=\"50\" y2=\"260\" class=\"line\" />\n",
      "<line x1=\"50\" y1=\"260\" x2=\"100\" y2=\"110\" class=\"line\" />\n",
      "<line x1=\"100\" y1=\"110\" x2=\"150\" y2=\"230\" class=\"line\" />\n",
      "<line x1=\"150\" y1=\"230\" x2=\"200\" y2=\"170\" class=\"line\" />\n",
      "<line x1=\"200\" y1=\"170\" x2=\"250\" y2=\"80\" class=\"line\" />\n",
      "<line x1=\"250\" y1=\"80\" x2=\"300\" y2=\"320\" class=\"line\" />\n",
      "<line x1=\"300\" y1=\"320\" x2=\"350\" y2=\"380\" class=\"line\" />\n",
      "<line x1=\"350\" y1=\"380\" x2=\"400\" y2=\"140\" class=\"line\" />\n",
      "<line x1=\"400\" y1=\"140\" x2=\"450\" y2=\"290\" class=\"line\" />\n",
      "<line x1=\"450\" y1=\"290\" x2=\"500\" y2=\"350\" class=\"line\" />\n"
     ]
    }
   ],
   "source": [
    "for i, x in enumerate(X):\n",
    "    if i < X.shape[0] - 1:\n",
    "        print(f'<line x1=\"{50 * i}\" y1=\"{500 - x * 30}\" x2=\"{50 * (i + 1)}\" y2=\"{500 - X[i + 1] * 30}\" class=\"line\" />')"
   ]
  },
  {
   "cell_type": "code",
   "execution_count": 4,
   "metadata": {},
   "outputs": [
    {
     "name": "stdout",
     "output_type": "stream",
     "text": [
      "<line x1=\"800\" y1=\"258.8\" x2=\"850\" y2=\"291.5\" class=\"line\" />\n",
      "<line x1=\"850\" y1=\"291.5\" x2=\"900\" y2=\"272.6\" class=\"line\" />\n",
      "<line x1=\"900\" y1=\"272.6\" x2=\"950\" y2=\"235.7\" class=\"line\" />\n",
      "<line x1=\"950\" y1=\"235.7\" x2=\"1000\" y2=\"250.1\" class=\"line\" />\n",
      "<line x1=\"1000\" y1=\"250.1\" x2=\"1050\" y2=\"201.2\" class=\"line\" />\n",
      "<line x1=\"1050\" y1=\"201.2\" x2=\"1100\" y2=\"282.79999999999995\" class=\"line\" />\n",
      "<line x1=\"1100\" y1=\"282.79999999999995\" x2=\"1150\" y2=\"372.2\" class=\"line\" />\n",
      "<line x1=\"1150\" y1=\"372.2\" x2=\"1200\" y2=\"174.8\" class=\"line\" />\n",
      "<line x1=\"1200\" y1=\"174.8\" x2=\"1250\" y2=\"355.4\" class=\"line\" />\n",
      "<line x1=\"1250\" y1=\"355.4\" x2=\"1300\" y2=\"329.6\" class=\"line\" />\n"
     ]
    }
   ],
   "source": [
    "for i, y in enumerate(Y):\n",
    "    if i < Y.shape[0] - 1:\n",
    "        print(f'<line x1=\"{50 * i + 800}\" y1=\"{500 - y * 30}\" x2=\"{50 * (i + 1) + 800}\" y2=\"{500 - Y[i + 1] * 30}\" class=\"line\" />')"
   ]
  },
  {
   "cell_type": "code",
   "execution_count": 5,
   "metadata": {},
   "outputs": [
    {
     "data": {
      "text/plain": [
       "<matplotlib.collections.PathCollection at 0x7f63036b5610>"
      ]
     },
     "execution_count": 5,
     "metadata": {},
     "output_type": "execute_result"
    },
    {
     "data": {
      "image/png": "[encoded data removed]",
      "text/plain": [
       "<Figure size 432x288 with 1 Axes>"
      ]
     },
     "metadata": {
      "needs_background": "light"
     },
     "output_type": "display_data"
    }
   ],
   "source": [
    "plt.scatter(X, Y)"
   ]
  },
  {
   "cell_type": "code",
   "execution_count": 6,
   "metadata": {},
   "outputs": [
    {
     "name": "stdout",
     "output_type": "stream",
     "text": [
      "0 10 8.04\n",
      "1 8 6.95\n",
      "2 13 7.58\n",
      "3 9 8.81\n",
      "4 11 8.33\n",
      "5 14 9.96\n",
      "6 6 7.24\n",
      "7 4 4.26\n",
      "8 12 10.84\n",
      "9 7 4.82\n",
      "10 5 5.68\n"
     ]
    }
   ],
   "source": [
    "for i, x in enumerate(X):\n",
    "    y = Y[i]\n",
    "    print(i,x,y)"
   ]
  },
  {
   "cell_type": "code",
   "execution_count": 11,
   "metadata": {},
   "outputs": [
    {
     "name": "stdout",
     "output_type": "stream",
     "text": [
      "800,258.8\n",
      "850,291.5\n",
      "900,272.6\n",
      "950,235.7\n",
      "1000,250.1\n",
      "1050,201.2\n",
      "1100,282.79999999999995\n",
      "1150,372.2\n",
      "1200,174.8\n",
      "1250,355.4\n",
      "1300,329.6\n"
     ]
    }
   ],
   "source": [
    "for i, x in enumerate(Y):\n",
    "    print(f'{50 * i + 800},{500 - x * 30}')"
   ]
  },
  {
   "cell_type": "code",
   "execution_count": 24,
   "metadata": {},
   "outputs": [
    {
     "name": "stdout",
     "output_type": "stream",
     "text": [
      "<circle cx=\"350\" cy=\"218.60000000000002\" r=\"10\" class=\"scatter\"/>\n",
      "<circle cx=\"280\" cy=\"256.75\" r=\"10\" class=\"scatter\"/>\n",
      "<circle cx=\"455\" cy=\"234.7\" r=\"10\" class=\"scatter\"/>\n",
      "<circle cx=\"315\" cy=\"191.64999999999998\" r=\"10\" class=\"scatter\"/>\n",
      "<circle cx=\"385\" cy=\"208.45\" r=\"10\" class=\"scatter\"/>\n",
      "<circle cx=\"490\" cy=\"151.39999999999998\" r=\"10\" class=\"scatter\"/>\n",
      "<circle cx=\"210\" cy=\"246.6\" r=\"10\" class=\"scatter\"/>\n",
      "<circle cx=\"140\" cy=\"350.9\" r=\"10\" class=\"scatter\"/>\n",
      "<circle cx=\"420\" cy=\"120.60000000000002\" r=\"10\" class=\"scatter\"/>\n",
      "<circle cx=\"245\" cy=\"331.29999999999995\" r=\"10\" class=\"scatter\"/>\n",
      "<circle cx=\"175\" cy=\"301.20000000000005\" r=\"10\" class=\"scatter\"/>\n"
     ]
    }
   ],
   "source": [
    "for x, y in zip(X, Y):\n",
    "#     print(40 * x, 500 - 40 * y)\n",
    "    print(f'<circle cx=\"{35 * x}\" cy=\"{500 - 35 * y}\" r=\"10\" class=\"scatter\"/>')"
   ]
  }
 ],
 "metadata": {
  "kernelspec": {
   "display_name": "Python 3",
   "language": "python",
   "name": "python3"
  },
  "language_info": {
   "codemirror_mode": {
    "name": "ipython",
    "version": 3
   },
   "file_extension": ".py",
   "mimetype": "text/x-python",
   "name": "python",
   "nbconvert_exporter": "python",
   "pygments_lexer": "ipython3",
   "version": "3.8.10"
  }
 },
 "nbformat": 4,
 "nbformat_minor": 4
}
